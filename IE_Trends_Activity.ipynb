{
  "nbformat": 4,
  "nbformat_minor": 0,
  "metadata": {
    "colab": {
      "name": "IE Trends Activity",
      "provenance": [],
      "authorship_tag": "ABX9TyOiQeYPe5XxYcgQz4UpjqZt",
      "include_colab_link": true
    },
    "kernelspec": {
      "name": "python3",
      "display_name": "Python 3"
    },
    "language_info": {
      "name": "python"
    }
  },
  "cells": [
    {
      "cell_type": "markdown",
      "metadata": {
        "id": "view-in-github",
        "colab_type": "text"
      },
      "source": [
        "<a href=\"https://colab.research.google.com/github/addierafaella/IE-Trends-Activity/blob/main/IE_Trends_Activity.ipynb\" target=\"_parent\"><img src=\"https://colab.research.google.com/assets/colab-badge.svg\" alt=\"Open In Colab\"/></a>"
      ]
    },
    {
      "cell_type": "markdown",
      "metadata": {
        "id": "khlzVLvouhrM"
      },
      "source": [
        "# Python Basics\n",
        "\n",
        "This section reviews progrmamming fundamentals using Python\n"
      ]
    },
    {
      "cell_type": "markdown",
      "metadata": {
        "id": "568eaxumvFR1"
      },
      "source": [
        "Variables and values"
      ]
    },
    {
      "cell_type": "code",
      "metadata": {
        "id": "XvCL5eIrvDyI"
      },
      "source": [
        "x = 10\n",
        "y = 3.14\n"
      ],
      "execution_count": 11,
      "outputs": []
    },
    {
      "cell_type": "markdown",
      "metadata": {
        "id": "dmNKCRldx7un"
      },
      "source": [
        "Printing"
      ]
    },
    {
      "cell_type": "code",
      "metadata": {
        "colab": {
          "base_uri": "https://localhost:8080/"
        },
        "id": "mZDCvUxxxY-i",
        "outputId": "89dc8a2f-3989-4ef0-b48f-0b69eb7e7dd1"
      },
      "source": [
        "print(x)\n",
        "print (y)"
      ],
      "execution_count": 12,
      "outputs": [
        {
          "output_type": "stream",
          "text": [
            "10\n",
            "3.14\n"
          ],
          "name": "stdout"
        }
      ]
    },
    {
      "cell_type": "markdown",
      "metadata": {
        "id": "A29oeMr4yGVb"
      },
      "source": [
        "Operations"
      ]
    },
    {
      "cell_type": "code",
      "metadata": {
        "colab": {
          "base_uri": "https://localhost:8080/"
        },
        "id": "q5-ZvtDvyHhQ",
        "outputId": "36d200b9-830b-464c-9f29-7f8536b029de"
      },
      "source": [
        "## Addition (also a comment line)\n",
        "z1 = x+y\n",
        "## Subtraction (also a comment line)\n",
        "z2 = x-y\n",
        "## Multiplication (also a comment line)\n",
        "z3 = x*y\n",
        "## Divisiom (also a comment line)\n",
        "z4 = x/y\n",
        "\n",
        "x*(y-10)/5"
      ],
      "execution_count": 18,
      "outputs": [
        {
          "output_type": "execute_result",
          "data": {
            "text/plain": [
              "-13.719999999999999"
            ]
          },
          "metadata": {
            "tags": []
          },
          "execution_count": 18
        }
      ]
    },
    {
      "cell_type": "markdown",
      "metadata": {
        "id": "_wvyNU610X3R"
      },
      "source": [
        "Coding $2^5$ "
      ]
    },
    {
      "cell_type": "code",
      "metadata": {
        "id": "HLsOdAC00P5t"
      },
      "source": [
        "## Exponentiation\n",
        "z5 = 2**5\n",
        "## Floor Division\n",
        "z6 = x//y\n",
        "## Trigonometric\n",
        "import math\n",
        "# math.sin(y) + math.cos(x)"
      ],
      "execution_count": 25,
      "outputs": []
    },
    {
      "cell_type": "markdown",
      "metadata": {
        "id": "aqu_zGvc1_Gd"
      },
      "source": [
        "$sin(y) + cos(x)$"
      ]
    },
    {
      "cell_type": "markdown",
      "metadata": {
        "id": "Q549Lnzw2yJ5"
      },
      "source": [
        "Loops"
      ]
    },
    {
      "cell_type": "code",
      "metadata": {
        "colab": {
          "base_uri": "https://localhost:8080/"
        },
        "id": "wCH2Eb8N20Nk",
        "outputId": "0a517e38-ce77-43c1-b8dc-5387cfef71e8"
      },
      "source": [
        "for i in range (0,10):\n",
        "  print (\"Hello\")\n",
        "  print (\"World\")\n",
        "  "
      ],
      "execution_count": 29,
      "outputs": [
        {
          "output_type": "stream",
          "text": [
            "Hello\n",
            "World\n",
            "Hello\n",
            "World\n",
            "Hello\n",
            "World\n",
            "Hello\n",
            "World\n",
            "Hello\n",
            "World\n",
            "Hello\n",
            "World\n",
            "Hello\n",
            "World\n",
            "Hello\n",
            "World\n",
            "Hello\n",
            "World\n",
            "Hello\n",
            "World\n"
          ],
          "name": "stdout"
        }
      ]
    },
    {
      "cell_type": "markdown",
      "metadata": {
        "id": "mb7cOcHL301N"
      },
      "source": [
        "$\\sin(i)+\\cos(i+\\pi)$"
      ]
    },
    {
      "cell_type": "markdown",
      "metadata": {
        "id": "K4sc2z3i40_4"
      },
      "source": [
        "$\\sum {\\sin(i)+\\cos(i+\\pi)}$"
      ]
    },
    {
      "cell_type": "code",
      "metadata": {
        "colab": {
          "base_uri": "https://localhost:8080/"
        },
        "id": "xzaOfKWd5CUf",
        "outputId": "72a833b3-4aa9-4f46-cdf2-8473d3144bc8"
      },
      "source": [
        "## Summation\n",
        "tz = 0\n",
        "for i in range (0,10):\n",
        "  tz += math.sin(i) + math.cos(i+math.pi)\n",
        "  print(tz)"
      ],
      "execution_count": 37,
      "outputs": [
        {
          "output_type": "stream",
          "text": [
            "-1.0\n",
            "-0.6988313210602433\n",
            "0.6266129423125808\n",
            "1.7577254469728933\n",
            "1.6545665725285772\n",
            "0.41198011240221266\n",
            "-0.827605672447079\n",
            "-0.9245213280715947\n",
            "0.2103369523604004\n",
            "1.533585699486834\n"
          ],
          "name": "stdout"
        }
      ]
    },
    {
      "cell_type": "markdown",
      "metadata": {
        "id": "wqZ-8dgk0gm9"
      },
      "source": [
        "Functions"
      ]
    },
    {
      "cell_type": "markdown",
      "metadata": {
        "id": "Tpbc5qc56J3_"
      },
      "source": [
        "$S - i^2$\n",
        "$\\pi$"
      ]
    },
    {
      "cell_type": "code",
      "metadata": {
        "colab": {
          "base_uri": "https://localhost:8080/"
        },
        "id": "yYO4oi_M0hta",
        "outputId": "94de5a70-0515-4adb-d3c7-2afd857b5d46"
      },
      "source": [
        "s=0\n",
        "for i in range(0,10):\n",
        "  s+=i\n",
        "  h=s-i**2\n",
        "  print(equation1(s,i))\n"
      ],
      "execution_count": 40,
      "outputs": [
        {
          "output_type": "stream",
          "text": [
            "0\n",
            "0\n",
            "-1\n",
            "-3\n",
            "-6\n",
            "-10\n",
            "-15\n",
            "-21\n",
            "-28\n",
            "-36\n"
          ],
          "name": "stdout"
        }
      ]
    },
    {
      "cell_type": "code",
      "metadata": {
        "id": "K2o2DIy06si5"
      },
      "source": [
        "def equation1(s,i):\n",
        "  return s-i**2"
      ],
      "execution_count": 39,
      "outputs": []
    }
  ]
}